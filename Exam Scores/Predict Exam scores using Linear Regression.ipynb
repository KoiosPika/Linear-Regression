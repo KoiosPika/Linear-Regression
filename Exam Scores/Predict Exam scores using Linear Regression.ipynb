{
 "cells": [
  {
   "cell_type": "code",
   "execution_count": 32,
   "id": "517e81c4",
   "metadata": {},
   "outputs": [
    {
     "name": "stdout",
     "output_type": "stream",
     "text": [
      "mes train=  13.263733207582323\n",
      "mes cv=  13.323925108045097\n",
      "mse test=  11.849731567308305\n"
     ]
    }
   ],
   "source": [
    "import numpy as np\n",
    "import pandas as pd\n",
    "from sklearn.preprocessing import StandardScaler\n",
    "from sklearn.model_selection import train_test_split, cross_val_score\n",
    "from sklearn.linear_model import LinearRegression\n",
    "from sklearn.metrics import mean_squared_error\n",
    "\n",
    "data = pd.read_csv('exams.csv')\n",
    "df = pd.DataFrame(data)\n",
    "\n",
    "#identify X and y\n",
    "#note: on first try, I took all available columns for X and only dropped the y column\n",
    "#The model suffered from Overfitting so I dropped 'lunch' column as well and the model performed better\n",
    "X = df.drop(columns = ['writing score','lunch'])\n",
    "y = df['writing score']\n",
    "\n",
    "#split numeric and non numeric columns\n",
    "non_numeric = X.select_dtypes(include=['object']).columns.tolist()\n",
    "numeric = X.select_dtypes(include=['int64','float64']).columns.tolist()\n",
    "\n",
    "#encode data\n",
    "df_encoded = pd.get_dummies(X,columns = non_numeric)\n",
    "X = pd.concat([df_encoded,df[numeric]],axis = 1)\n",
    "\n",
    "#scale data\n",
    "scaler = StandardScaler()\n",
    "X = scaler.fit_transform(X)\n",
    "\n",
    "#split data into train and test\n",
    "X_train, X_test, y_train, y_test = train_test_split(X, y, test_size=0.2, random_state=42)\n",
    "\n",
    "#define a model and fit\n",
    "model = LinearRegression()\n",
    "model.fit(X_train,y_train)\n",
    "\n",
    "#get predict values for train and test sets\n",
    "y_train_pred = model.predict(X_train)\n",
    "y_test_pred = model.predict(X_test)\n",
    "\n",
    "#define cross validation \n",
    "cv = -cross_val_score(model,X,y,scoring = 'neg_mean_squared_error',cv = 5)\n",
    "\n",
    "#calculate mean squared errors\n",
    "mse_train = mean_squared_error(y_train,y_train_pred)\n",
    "mse_cv = np.mean(cv)\n",
    "mse_test = mean_squared_error(y_test,y_test_pred)\n",
    "\n",
    "#print the results\n",
    "print('mes train= ',mse_train)\n",
    "print('mes cv= ',mse_cv)\n",
    "print('mse test= ',mse_test)"
   ]
  },
  {
   "cell_type": "code",
   "execution_count": null,
   "id": "6419b019",
   "metadata": {},
   "outputs": [],
   "source": []
  }
 ],
 "metadata": {
  "kernelspec": {
   "display_name": "Python 3 (ipykernel)",
   "language": "python",
   "name": "python3"
  },
  "language_info": {
   "codemirror_mode": {
    "name": "ipython",
    "version": 3
   },
   "file_extension": ".py",
   "mimetype": "text/x-python",
   "name": "python",
   "nbconvert_exporter": "python",
   "pygments_lexer": "ipython3",
   "version": "3.10.6"
  }
 },
 "nbformat": 4,
 "nbformat_minor": 5
}
