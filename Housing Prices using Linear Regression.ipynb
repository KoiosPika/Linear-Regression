{
 "cells": [
  {
   "cell_type": "code",
   "execution_count": 46,
   "id": "80429f6c",
   "metadata": {},
   "outputs": [
    {
     "name": "stdout",
     "output_type": "stream",
     "text": [
      "mse_test:  9.310213150884699e-19\n",
      "mse_train:  6.654415168741307e-19\n",
      "mse_cv:  6.5334619722511806e-18\n"
     ]
    }
   ],
   "source": [
    "import numpy as np\n",
    "import pandas as pd\n",
    "from sklearn.linear_model import LinearRegression\n",
    "from sklearn.model_selection import train_test_split, cross_val_score\n",
    "from sklearn.preprocessing import StandardScaler\n",
    "from sklearn.metrics import mean_squared_error\n",
    "\n",
    "data = pd.read_csv('Housing.csv')\n",
    "df = pd.DataFrame(data)\n",
    "\n",
    "#separate X and y\n",
    "X = df.drop(columns = ['price'])\n",
    "y = df['price']\n",
    "\n",
    "#get dummies\n",
    "categorical_columns = X.select_dtypes(include=['object']).columns.tolist()\n",
    "numerical_columns = X.select_dtypes(include=['int64','float64']).columns.tolist()\n",
    "\n",
    "df_encoded = pd.get_dummies(df,columns=categorical_columns)\n",
    "\n",
    "X = pd.concat([df_encoded,df[numerical_columns]],axis=1)\n",
    "\n",
    "#scale\n",
    "scaler = StandardScaler()\n",
    "\n",
    "X = scaler.fit_transform(X)\n",
    "\n",
    "\n",
    "#split data\n",
    "X_train, X_test, y_train, y_test = train_test_split(X, y, test_size=0.2, random_state=42)\n",
    "\n",
    "#define a model\n",
    "model  = LinearRegression()\n",
    "\n",
    "model.fit(X_train,y_train)\n",
    "\n",
    "#get mean squared error\n",
    "y_train_pred = model.predict(X_train)\n",
    "\n",
    "mse_train = mean_squared_error(y_train,y_train_pred)\n",
    "\n",
    "mse_cv = -cross_val_score(model,X,y,scoring='neg_mean_squared_error', cv=5)\n",
    "\n",
    "mse_cv = np.mean(mse_cv)\n",
    "\n",
    "y_pred = model.predict(X_test)\n",
    "\n",
    "mse_test = mean_squared_error(y_pred,y_test)\n",
    "\n",
    "print('mse_test: ',mse_test)\n",
    "print('mse_train: ',mse_train)\n",
    "print('mse_cv: ',mse_cv)"
   ]
  },
  {
   "cell_type": "code",
   "execution_count": null,
   "id": "6adc6b98",
   "metadata": {},
   "outputs": [],
   "source": []
  },
  {
   "cell_type": "code",
   "execution_count": null,
   "id": "d0913e4b",
   "metadata": {},
   "outputs": [],
   "source": []
  }
 ],
 "metadata": {
  "kernelspec": {
   "display_name": "Python 3 (ipykernel)",
   "language": "python",
   "name": "python3"
  },
  "language_info": {
   "codemirror_mode": {
    "name": "ipython",
    "version": 3
   },
   "file_extension": ".py",
   "mimetype": "text/x-python",
   "name": "python",
   "nbconvert_exporter": "python",
   "pygments_lexer": "ipython3",
   "version": "3.10.6"
  }
 },
 "nbformat": 4,
 "nbformat_minor": 5
}
